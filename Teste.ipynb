{
 "cells": [
  {
   "cell_type": "markdown",
   "id": "21b5d385",
   "metadata": {},
   "source": [
    "# Teste"
   ]
  },
  {
   "cell_type": "markdown",
   "id": "f9ee93e4",
   "metadata": {},
   "source": [
    "Instalando requisitos"
   ]
  },
  {
   "cell_type": "code",
   "execution_count": 1,
   "id": "574e3916",
   "metadata": {},
   "outputs": [
    {
     "name": "stdout",
     "output_type": "stream",
     "text": [
      "\u001b[33mWARNING: You are using pip version 21.3.1; however, version 25.1.1 is available.\n",
      "You should consider upgrading via the '/mnt/DADOS/Henrique/Dev/Repositorios_Git/Em desenvolvimento/GitHub.com/Henriquemcc/Ciencia da Computacao/AS05_Implementacao_de_Assistente_Conversacional_Baseado_em_LLM_-_Topicos_em_Computacao_III_-_2025-1/.venv/bin/python -m pip install --upgrade pip' command.\u001b[0m\n"
     ]
    }
   ],
   "source": [
    "!pip install -q torch transformers accelerate pinecone"
   ]
  },
  {
   "cell_type": "markdown",
   "id": "22e205fb",
   "metadata": {},
   "source": [
    "Importando requisitos"
   ]
  },
  {
   "cell_type": "code",
   "execution_count": 2,
   "id": "bac76809",
   "metadata": {},
   "outputs": [
    {
     "name": "stderr",
     "output_type": "stream",
     "text": [
      "/mnt/DADOS/Henrique/Dev/Repositorios_Git/Em desenvolvimento/GitHub.com/Henriquemcc/Ciencia da Computacao/AS05_Implementacao_de_Assistente_Conversacional_Baseado_em_LLM_-_Topicos_em_Computacao_III_-_2025-1/.venv/lib64/python3.9/site-packages/tqdm/auto.py:21: TqdmWarning: IProgress not found. Please update jupyter and ipywidgets. See https://ipywidgets.readthedocs.io/en/stable/user_install.html\n",
      "  from .autonotebook import tqdm as notebook_tqdm\n",
      "/mnt/DADOS/Henrique/Dev/Repositorios_Git/Em desenvolvimento/GitHub.com/Henriquemcc/Ciencia da Computacao/AS05_Implementacao_de_Assistente_Conversacional_Baseado_em_LLM_-_Topicos_em_Computacao_III_-_2025-1/.venv/lib64/python3.9/site-packages/networkx/utils/backends.py:135: RuntimeWarning: networkx backend defined more than once: nx-loopback\n",
      "  backends.update(_get_backends(\"networkx.backends\"))\n"
     ]
    }
   ],
   "source": [
    "from assistente_conversacional import AssistenteConversacional"
   ]
  },
  {
   "cell_type": "markdown",
   "id": "df3d8eee",
   "metadata": {},
   "source": [
    "Chaves de API"
   ]
  },
  {
   "cell_type": "code",
   "execution_count": 3,
   "id": "3a45bfc9",
   "metadata": {},
   "outputs": [],
   "source": [
    "pinecone_api_key = \"\"\n",
    "huggingfacehub_api_key = \"\""
   ]
  },
  {
   "cell_type": "markdown",
   "id": "077c9014",
   "metadata": {},
   "source": [
    "Criando assistence conversacional"
   ]
  },
  {
   "cell_type": "code",
   "execution_count": 4,
   "id": "d92fb578",
   "metadata": {},
   "outputs": [
    {
     "name": "stderr",
     "output_type": "stream",
     "text": [
      "Device set to use cpu\n"
     ]
    }
   ],
   "source": [
    "assistente = AssistenteConversacional(pinecone_api_key, huggingfacehub_api_key)"
   ]
  },
  {
   "cell_type": "code",
   "execution_count": 5,
   "id": "8269a502",
   "metadata": {},
   "outputs": [],
   "source": [
    "dados = [\n",
    "    {\"id\": \"vec1\", \"text\": \"Apple is a popular fruit known for its sweetness and crisp texture.\"},\n",
    "    {\"id\": \"vec2\", \"text\": \"The tech company Apple is known for its innovative products like the iPhone.\"},\n",
    "    {\"id\": \"vec3\", \"text\": \"Many people enjoy eating apples as a healthy snack.\"},\n",
    "    {\"id\": \"vec4\", \"text\": \"Apple Inc. has revolutionized the tech industry with its sleek designs and user-friendly interfaces.\"},\n",
    "    {\"id\": \"vec5\", \"text\": \"An apple a day keeps the doctor away, as the saying goes.\"},\n",
    "    {\"id\": \"vec6\", \"text\": \"Apple Computer Company was founded on April 1, 1976, by Steve Jobs, Steve Wozniak, and Ronald Wayne as a partnership.\"}\n",
    "]\n",
    "\n",
    "assistente.indexar_documentos(dados)"
   ]
  },
  {
   "cell_type": "code",
   "execution_count": 6,
   "id": "a962cc72",
   "metadata": {},
   "outputs": [
    {
     "name": "stderr",
     "output_type": "stream",
     "text": [
      "/mnt/DADOS/Henrique/Dev/Repositorios_Git/Em desenvolvimento/GitHub.com/Henriquemcc/Ciencia da Computacao/AS05_Implementacao_de_Assistente_Conversacional_Baseado_em_LLM_-_Topicos_em_Computacao_III_-_2025-1/.venv/lib64/python3.9/site-packages/transformers/pipelines/question_answering.py:390: FutureWarning: Passing a list of SQuAD examples to the pipeline is deprecated and will be removed in v5. Inputs should be passed using the `question` and `context` keyword arguments instead.\n",
      "  warnings.warn(\n"
     ]
    },
    {
     "data": {
      "text/plain": [
       "'The tech company Apple is known for its innovative products like the iPhone'"
      ]
     },
     "execution_count": 6,
     "metadata": {},
     "output_type": "execute_result"
    }
   ],
   "source": [
    "assistente.perguntar(\"Tell me about the tech company known as Apple.\")"
   ]
  },
  {
   "cell_type": "code",
   "execution_count": 7,
   "id": "f9aa1c02",
   "metadata": {},
   "outputs": [
    {
     "data": {
      "text/plain": [
       "'Steve Wozniak'"
      ]
     },
     "execution_count": 7,
     "metadata": {},
     "output_type": "execute_result"
    }
   ],
   "source": [
    "assistente.perguntar(\"Who is Steve Jobs?\")"
   ]
  },
  {
   "cell_type": "code",
   "execution_count": 8,
   "id": "c9c26fa0",
   "metadata": {},
   "outputs": [
    {
     "data": {
      "text/plain": [
       "'April 1, 1976'"
      ]
     },
     "execution_count": 8,
     "metadata": {},
     "output_type": "execute_result"
    }
   ],
   "source": [
    "assistente.perguntar(\"When Apple was founded?\")"
   ]
  },
  {
   "cell_type": "code",
   "execution_count": 11,
   "id": "0d5b77e7",
   "metadata": {},
   "outputs": [
    {
     "data": {
      "text/plain": [
       "'sweetness and crisp texture'"
      ]
     },
     "execution_count": 11,
     "metadata": {},
     "output_type": "execute_result"
    }
   ],
   "source": [
    "assistente.perguntar(\"Tell me about the characteristics of the fruit Apple\")"
   ]
  },
  {
   "cell_type": "code",
   "execution_count": 12,
   "id": "05632740",
   "metadata": {},
   "outputs": [
    {
     "name": "stderr",
     "output_type": "stream",
     "text": [
      "/mnt/DADOS/Henrique/Dev/Repositorios_Git/Em desenvolvimento/GitHub.com/Henriquemcc/Ciencia da Computacao/AS05_Implementacao_de_Assistente_Conversacional_Baseado_em_LLM_-_Topicos_em_Computacao_III_-_2025-1/.venv/lib64/python3.9/site-packages/transformers/pipelines/question_answering.py:390: FutureWarning: Passing a list of SQuAD examples to the pipeline is deprecated and will be removed in v5. Inputs should be passed using the `question` and `context` keyword arguments instead.\n",
      "  warnings.warn(\n"
     ]
    },
    {
     "data": {
      "text/plain": [
       "'iPhone'"
      ]
     },
     "execution_count": 12,
     "metadata": {},
     "output_type": "execute_result"
    }
   ],
   "source": [
    "assistente.perguntar(\"What products Apple has created?\")"
   ]
  },
  {
   "cell_type": "code",
   "execution_count": 13,
   "id": "9c5f3b3a",
   "metadata": {},
   "outputs": [
    {
     "name": "stderr",
     "output_type": "stream",
     "text": [
      "/mnt/DADOS/Henrique/Dev/Repositorios_Git/Em desenvolvimento/GitHub.com/Henriquemcc/Ciencia da Computacao/AS05_Implementacao_de_Assistente_Conversacional_Baseado_em_LLM_-_Topicos_em_Computacao_III_-_2025-1/.venv/lib64/python3.9/site-packages/transformers/pipelines/question_answering.py:390: FutureWarning: Passing a list of SQuAD examples to the pipeline is deprecated and will be removed in v5. Inputs should be passed using the `question` and `context` keyword arguments instead.\n",
      "  warnings.warn(\n"
     ]
    },
    {
     "data": {
      "text/plain": [
       "'its sleek designs and user-friendly interfaces'"
      ]
     },
     "execution_count": 13,
     "metadata": {},
     "output_type": "execute_result"
    }
   ],
   "source": [
    "assistente.perguntar(\"How Apple revolutionized tech industry?\")"
   ]
  }
 ],
 "metadata": {
  "kernelspec": {
   "display_name": ".venv",
   "language": "python",
   "name": "python3"
  },
  "language_info": {
   "codemirror_mode": {
    "name": "ipython",
    "version": 3
   },
   "file_extension": ".py",
   "mimetype": "text/x-python",
   "name": "python",
   "nbconvert_exporter": "python",
   "pygments_lexer": "ipython3",
   "version": "3.9.21"
  }
 },
 "nbformat": 4,
 "nbformat_minor": 5
}
